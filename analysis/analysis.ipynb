{
 "cells": [
  {
   "cell_type": "code",
   "execution_count": 120,
   "metadata": {
    "collapsed": true
   },
   "outputs": [],
   "source": [
    "import os\n",
    "import pandas as pd\n",
    "from pandas.io.json import json_normalize\n",
    "import json\n",
    "from itertools import chain\n",
    "from collections import Counter"
   ]
  },
  {
   "cell_type": "code",
   "execution_count": 121,
   "outputs": [
    {
     "data": {
      "text/plain": "                                        _id        nome        data  \\\n0  {'loteria': 'super-sete', 'concurso': 1}  Super Sete  02/10/2020   \n1  {'loteria': 'super-sete', 'concurso': 2}  Super Sete  05/10/2020   \n2  {'loteria': 'super-sete', 'concurso': 3}  Super Sete  07/10/2020   \n3  {'loteria': 'super-sete', 'concurso': 4}  Super Sete  09/10/2020   \n4  {'loteria': 'super-sete', 'concurso': 5}  Super Sete  14/10/2020   \n\n                                               local                dezenas  \\\n0  Sorteio realizado Espaço Loterias CAIXA em SAO...  [2, 9, 9, 8, 7, 7, 6]   \n1             Espaço Loterias CAIXA em SAO PAULO, SP  [8, 8, 1, 5, 6, 7, 7]   \n2             Espaço Loterias CAIXA em SAO PAULO, SP  [7, 2, 6, 6, 5, 4, 4]   \n3             Espaço Loterias CAIXA em SAO PAULO, SP  [5, 7, 8, 1, 8, 2, 5]   \n4             Espaço Loterias CAIXA em SAO PAULO, SP  [6, 4, 0, 1, 0, 6, 9]   \n\n                                          premiacoes  \\\n0  [{'acertos': '7 Pontos', 'vencedores': 0, 'pre...   \n1  [{'acertos': '7 Pontos', 'vencedores': 0, 'pre...   \n2  [{'acertos': '7 Pontos', 'vencedores': 1, 'pre...   \n3  [{'acertos': '7 Pontos', 'vencedores': 0, 'pre...   \n4  [{'acertos': '7 Pontos', 'vencedores': 0, 'pre...   \n\n                                    estadosPremiados  acumulou  \\\n0                                                 []      True   \n1                                                 []      True   \n2  [{'nome': 'Bahia', 'uf': 'BA', 'vencedores': '...     False   \n3                                                 []      True   \n4                                                 []      True   \n\n  acumuladaProxConcurso dataProxConcurso  \n0                                         \n1                                         \n2                                         \n3                                         \n4                                         ",
      "text/html": "<div>\n<style scoped>\n    .dataframe tbody tr th:only-of-type {\n        vertical-align: middle;\n    }\n\n    .dataframe tbody tr th {\n        vertical-align: top;\n    }\n\n    .dataframe thead th {\n        text-align: right;\n    }\n</style>\n<table border=\"1\" class=\"dataframe\">\n  <thead>\n    <tr style=\"text-align: right;\">\n      <th></th>\n      <th>_id</th>\n      <th>nome</th>\n      <th>data</th>\n      <th>local</th>\n      <th>dezenas</th>\n      <th>premiacoes</th>\n      <th>estadosPremiados</th>\n      <th>acumulou</th>\n      <th>acumuladaProxConcurso</th>\n      <th>dataProxConcurso</th>\n    </tr>\n  </thead>\n  <tbody>\n    <tr>\n      <th>0</th>\n      <td>{'loteria': 'super-sete', 'concurso': 1}</td>\n      <td>Super Sete</td>\n      <td>02/10/2020</td>\n      <td>Sorteio realizado Espaço Loterias CAIXA em SAO...</td>\n      <td>[2, 9, 9, 8, 7, 7, 6]</td>\n      <td>[{'acertos': '7 Pontos', 'vencedores': 0, 'pre...</td>\n      <td>[]</td>\n      <td>True</td>\n      <td></td>\n      <td></td>\n    </tr>\n    <tr>\n      <th>1</th>\n      <td>{'loteria': 'super-sete', 'concurso': 2}</td>\n      <td>Super Sete</td>\n      <td>05/10/2020</td>\n      <td>Espaço Loterias CAIXA em SAO PAULO, SP</td>\n      <td>[8, 8, 1, 5, 6, 7, 7]</td>\n      <td>[{'acertos': '7 Pontos', 'vencedores': 0, 'pre...</td>\n      <td>[]</td>\n      <td>True</td>\n      <td></td>\n      <td></td>\n    </tr>\n    <tr>\n      <th>2</th>\n      <td>{'loteria': 'super-sete', 'concurso': 3}</td>\n      <td>Super Sete</td>\n      <td>07/10/2020</td>\n      <td>Espaço Loterias CAIXA em SAO PAULO, SP</td>\n      <td>[7, 2, 6, 6, 5, 4, 4]</td>\n      <td>[{'acertos': '7 Pontos', 'vencedores': 1, 'pre...</td>\n      <td>[{'nome': 'Bahia', 'uf': 'BA', 'vencedores': '...</td>\n      <td>False</td>\n      <td></td>\n      <td></td>\n    </tr>\n    <tr>\n      <th>3</th>\n      <td>{'loteria': 'super-sete', 'concurso': 4}</td>\n      <td>Super Sete</td>\n      <td>09/10/2020</td>\n      <td>Espaço Loterias CAIXA em SAO PAULO, SP</td>\n      <td>[5, 7, 8, 1, 8, 2, 5]</td>\n      <td>[{'acertos': '7 Pontos', 'vencedores': 0, 'pre...</td>\n      <td>[]</td>\n      <td>True</td>\n      <td></td>\n      <td></td>\n    </tr>\n    <tr>\n      <th>4</th>\n      <td>{'loteria': 'super-sete', 'concurso': 5}</td>\n      <td>Super Sete</td>\n      <td>14/10/2020</td>\n      <td>Espaço Loterias CAIXA em SAO PAULO, SP</td>\n      <td>[6, 4, 0, 1, 0, 6, 9]</td>\n      <td>[{'acertos': '7 Pontos', 'vencedores': 0, 'pre...</td>\n      <td>[]</td>\n      <td>True</td>\n      <td></td>\n      <td></td>\n    </tr>\n  </tbody>\n</table>\n</div>"
     },
     "execution_count": 121,
     "metadata": {},
     "output_type": "execute_result"
    }
   ],
   "source": [
    "with open(\"mongo_data_loterias.json\", \"r\") as f:\n",
    "  data_json = json.loads(f.read())\n",
    "\n",
    "df_init = pd.DataFrame(data_json).drop(\"_class\", axis=1)\n",
    "df_init.head()"
   ],
   "metadata": {
    "collapsed": false
   }
  },
  {
   "cell_type": "code",
   "execution_count": 122,
   "outputs": [
    {
     "data": {
      "text/plain": "2    249\n9    274\n8    236\n7    261\n6    255\n1    242\n5    237\n4    234\n0    246\n3    244\ndtype: int64"
     },
     "execution_count": 122,
     "metadata": {},
     "output_type": "execute_result"
    }
   ],
   "source": [
    "df_pre_dezenas = df_init\n",
    "s = pd.Series(df_pre_dezenas['dezenas'])\n",
    "df_pre_dezenas['dezenas'] = s.str.join('-')\n",
    "\n",
    "x = df_pre_dezenas['dezenas']\n",
    "df_freq = pd.Series(Counter(chain.from_iterable(x.split('-') for x in df_pre_dezenas.dezenas)))\n",
    "df_freq"
   ],
   "metadata": {
    "collapsed": false
   }
  },
  {
   "cell_type": "code",
   "execution_count": 123,
   "outputs": [
    {
     "data": {
      "text/plain": "0     9.927361\n1     9.765940\n2    10.048426\n3     9.846651\n4     9.443099\n5     9.564165\n6    10.290557\n7    10.532688\n8     9.523810\n9    11.057304\ndtype: float64"
     },
     "execution_count": 123,
     "metadata": {},
     "output_type": "execute_result"
    }
   ],
   "source": [
    "df_perc = df_freq/df_freq.sum() * 100\n",
    "df_perc.sort_index()"
   ],
   "metadata": {
    "collapsed": false
   }
  },
  {
   "cell_type": "code",
   "execution_count": 125,
   "outputs": [
    {
     "name": "stderr",
     "output_type": "stream",
     "text": [
      "/tmp/ipykernel_703557/2718946740.py:2: FutureWarning: Using short name for 'orient' is deprecated. Only the options: ('dict', list, 'series', 'split', 'records', 'index') will be used in a future version. Use one of the above to silence this warning.\n",
      "  df_pre_normalize.to_dict(\"recors\")\n",
      "/tmp/ipykernel_703557/2718946740.py:4: FutureWarning: pandas.io.json.json_normalize is deprecated, use pandas.json_normalize instead\n",
      "  df_normalize = json_normalize(data=json_data, record_path=col, meta=meta_cols, record_prefix=col+str('_'), sep=',', errors='ignore').drop(\"_class\", axis=1)\n"
     ]
    },
    {
     "data": {
      "text/plain": "   estadosPremiados_nome estadosPremiados_uf estadosPremiados_vencedores  \\\n0                  Bahia                  BA                           1   \n1                  Bahia                  BA                           1   \n2                  Bahia                  BA                           1   \n3                  Bahia                  BA                           1   \n4                  Bahia                  BA                           1   \n..                   ...                 ...                         ...   \n90                 Goiás                  GO                           1   \n91                 Goiás                  GO                           1   \n92                 Goiás                  GO                           1   \n93                 Goiás                  GO                           1   \n94                 Goiás                  GO                           1   \n\n   estadosPremiados_latitude estadosPremiados_longitude  \\\n0                 -12.579738                -41.7007272   \n1                 -12.579738                -41.7007272   \n2                 -12.579738                -41.7007272   \n3                 -12.579738                -41.7007272   \n4                 -12.579738                -41.7007272   \n..                       ...                        ...   \n90                36.7156122                -95.9435511   \n91                36.7156122                -95.9435511   \n92                36.7156122                -95.9435511   \n93                36.7156122                -95.9435511   \n94                36.7156122                -95.9435511   \n\n                             estadosPremiados_cidades  \\\n0                                                 NaN   \n1                                                 NaN   \n2                                                 NaN   \n3                                                 NaN   \n4                                                 NaN   \n..                                                ...   \n90  [{'cidade': 'Goiânia', 'vencedores': '1', 'lat...   \n91  [{'cidade': 'Goiânia', 'vencedores': '1', 'lat...   \n92  [{'cidade': 'Goiânia', 'vencedores': '1', 'lat...   \n93  [{'cidade': 'Goiânia', 'vencedores': '1', 'lat...   \n94  [{'cidade': 'Goiânia', 'vencedores': '1', 'lat...   \n\n                                           _id        nome        data  \\\n0     {'loteria': 'super-sete', 'concurso': 3}  Super Sete  07/10/2020   \n1     {'loteria': 'super-sete', 'concurso': 3}  Super Sete  07/10/2020   \n2     {'loteria': 'super-sete', 'concurso': 3}  Super Sete  07/10/2020   \n3     {'loteria': 'super-sete', 'concurso': 3}  Super Sete  07/10/2020   \n4     {'loteria': 'super-sete', 'concurso': 3}  Super Sete  07/10/2020   \n..                                         ...         ...         ...   \n90  {'loteria': 'super-sete', 'concurso': 342}  Super Sete  06/01/2023   \n91  {'loteria': 'super-sete', 'concurso': 342}  Super Sete  06/01/2023   \n92  {'loteria': 'super-sete', 'concurso': 342}  Super Sete  06/01/2023   \n93  {'loteria': 'super-sete', 'concurso': 342}  Super Sete  06/01/2023   \n94  {'loteria': 'super-sete', 'concurso': 342}  Super Sete  06/01/2023   \n\n                                     local acumulou acumuladaProxConcurso  \\\n0   Espaço Loterias CAIXA em SAO PAULO, SP    False                         \n1   Espaço Loterias CAIXA em SAO PAULO, SP    False                         \n2   Espaço Loterias CAIXA em SAO PAULO, SP    False                         \n3   Espaço Loterias CAIXA em SAO PAULO, SP    False                         \n4   Espaço Loterias CAIXA em SAO PAULO, SP    False                         \n..                                     ...      ...                   ...   \n90            EspaçodaSorte em SAOPAULO,SP    False                         \n91            EspaçodaSorte em SAOPAULO,SP    False                         \n92            EspaçodaSorte em SAOPAULO,SP    False                         \n93            EspaçodaSorte em SAOPAULO,SP    False                         \n94            EspaçodaSorte em SAOPAULO,SP    False                         \n\n   dataProxConcurso  \n0                    \n1                    \n2                    \n3                    \n4                    \n..              ...  \n90                   \n91                   \n92                   \n93                   \n94                   \n\n[95 rows x 13 columns]",
      "text/html": "<div>\n<style scoped>\n    .dataframe tbody tr th:only-of-type {\n        vertical-align: middle;\n    }\n\n    .dataframe tbody tr th {\n        vertical-align: top;\n    }\n\n    .dataframe thead th {\n        text-align: right;\n    }\n</style>\n<table border=\"1\" class=\"dataframe\">\n  <thead>\n    <tr style=\"text-align: right;\">\n      <th></th>\n      <th>estadosPremiados_nome</th>\n      <th>estadosPremiados_uf</th>\n      <th>estadosPremiados_vencedores</th>\n      <th>estadosPremiados_latitude</th>\n      <th>estadosPremiados_longitude</th>\n      <th>estadosPremiados_cidades</th>\n      <th>_id</th>\n      <th>nome</th>\n      <th>data</th>\n      <th>local</th>\n      <th>acumulou</th>\n      <th>acumuladaProxConcurso</th>\n      <th>dataProxConcurso</th>\n    </tr>\n  </thead>\n  <tbody>\n    <tr>\n      <th>0</th>\n      <td>Bahia</td>\n      <td>BA</td>\n      <td>1</td>\n      <td>-12.579738</td>\n      <td>-41.7007272</td>\n      <td>NaN</td>\n      <td>{'loteria': 'super-sete', 'concurso': 3}</td>\n      <td>Super Sete</td>\n      <td>07/10/2020</td>\n      <td>Espaço Loterias CAIXA em SAO PAULO, SP</td>\n      <td>False</td>\n      <td></td>\n      <td></td>\n    </tr>\n    <tr>\n      <th>1</th>\n      <td>Bahia</td>\n      <td>BA</td>\n      <td>1</td>\n      <td>-12.579738</td>\n      <td>-41.7007272</td>\n      <td>NaN</td>\n      <td>{'loteria': 'super-sete', 'concurso': 3}</td>\n      <td>Super Sete</td>\n      <td>07/10/2020</td>\n      <td>Espaço Loterias CAIXA em SAO PAULO, SP</td>\n      <td>False</td>\n      <td></td>\n      <td></td>\n    </tr>\n    <tr>\n      <th>2</th>\n      <td>Bahia</td>\n      <td>BA</td>\n      <td>1</td>\n      <td>-12.579738</td>\n      <td>-41.7007272</td>\n      <td>NaN</td>\n      <td>{'loteria': 'super-sete', 'concurso': 3}</td>\n      <td>Super Sete</td>\n      <td>07/10/2020</td>\n      <td>Espaço Loterias CAIXA em SAO PAULO, SP</td>\n      <td>False</td>\n      <td></td>\n      <td></td>\n    </tr>\n    <tr>\n      <th>3</th>\n      <td>Bahia</td>\n      <td>BA</td>\n      <td>1</td>\n      <td>-12.579738</td>\n      <td>-41.7007272</td>\n      <td>NaN</td>\n      <td>{'loteria': 'super-sete', 'concurso': 3}</td>\n      <td>Super Sete</td>\n      <td>07/10/2020</td>\n      <td>Espaço Loterias CAIXA em SAO PAULO, SP</td>\n      <td>False</td>\n      <td></td>\n      <td></td>\n    </tr>\n    <tr>\n      <th>4</th>\n      <td>Bahia</td>\n      <td>BA</td>\n      <td>1</td>\n      <td>-12.579738</td>\n      <td>-41.7007272</td>\n      <td>NaN</td>\n      <td>{'loteria': 'super-sete', 'concurso': 3}</td>\n      <td>Super Sete</td>\n      <td>07/10/2020</td>\n      <td>Espaço Loterias CAIXA em SAO PAULO, SP</td>\n      <td>False</td>\n      <td></td>\n      <td></td>\n    </tr>\n    <tr>\n      <th>...</th>\n      <td>...</td>\n      <td>...</td>\n      <td>...</td>\n      <td>...</td>\n      <td>...</td>\n      <td>...</td>\n      <td>...</td>\n      <td>...</td>\n      <td>...</td>\n      <td>...</td>\n      <td>...</td>\n      <td>...</td>\n      <td>...</td>\n    </tr>\n    <tr>\n      <th>90</th>\n      <td>Goiás</td>\n      <td>GO</td>\n      <td>1</td>\n      <td>36.7156122</td>\n      <td>-95.9435511</td>\n      <td>[{'cidade': 'Goiânia', 'vencedores': '1', 'lat...</td>\n      <td>{'loteria': 'super-sete', 'concurso': 342}</td>\n      <td>Super Sete</td>\n      <td>06/01/2023</td>\n      <td>EspaçodaSorte em SAOPAULO,SP</td>\n      <td>False</td>\n      <td></td>\n      <td></td>\n    </tr>\n    <tr>\n      <th>91</th>\n      <td>Goiás</td>\n      <td>GO</td>\n      <td>1</td>\n      <td>36.7156122</td>\n      <td>-95.9435511</td>\n      <td>[{'cidade': 'Goiânia', 'vencedores': '1', 'lat...</td>\n      <td>{'loteria': 'super-sete', 'concurso': 342}</td>\n      <td>Super Sete</td>\n      <td>06/01/2023</td>\n      <td>EspaçodaSorte em SAOPAULO,SP</td>\n      <td>False</td>\n      <td></td>\n      <td></td>\n    </tr>\n    <tr>\n      <th>92</th>\n      <td>Goiás</td>\n      <td>GO</td>\n      <td>1</td>\n      <td>36.7156122</td>\n      <td>-95.9435511</td>\n      <td>[{'cidade': 'Goiânia', 'vencedores': '1', 'lat...</td>\n      <td>{'loteria': 'super-sete', 'concurso': 342}</td>\n      <td>Super Sete</td>\n      <td>06/01/2023</td>\n      <td>EspaçodaSorte em SAOPAULO,SP</td>\n      <td>False</td>\n      <td></td>\n      <td></td>\n    </tr>\n    <tr>\n      <th>93</th>\n      <td>Goiás</td>\n      <td>GO</td>\n      <td>1</td>\n      <td>36.7156122</td>\n      <td>-95.9435511</td>\n      <td>[{'cidade': 'Goiânia', 'vencedores': '1', 'lat...</td>\n      <td>{'loteria': 'super-sete', 'concurso': 342}</td>\n      <td>Super Sete</td>\n      <td>06/01/2023</td>\n      <td>EspaçodaSorte em SAOPAULO,SP</td>\n      <td>False</td>\n      <td></td>\n      <td></td>\n    </tr>\n    <tr>\n      <th>94</th>\n      <td>Goiás</td>\n      <td>GO</td>\n      <td>1</td>\n      <td>36.7156122</td>\n      <td>-95.9435511</td>\n      <td>[{'cidade': 'Goiânia', 'vencedores': '1', 'lat...</td>\n      <td>{'loteria': 'super-sete', 'concurso': 342}</td>\n      <td>Super Sete</td>\n      <td>06/01/2023</td>\n      <td>EspaçodaSorte em SAOPAULO,SP</td>\n      <td>False</td>\n      <td></td>\n      <td></td>\n    </tr>\n  </tbody>\n</table>\n<p>95 rows × 13 columns</p>\n</div>"
     },
     "execution_count": 125,
     "metadata": {},
     "output_type": "execute_result"
    }
   ],
   "source": [
    "df_pre_normalize = pd.DataFrame(data_json)\n",
    "df_pre_normalize.to_dict(\"recors\")\n",
    "meta_cols = [col for col in df_pre_normalize.columns if type(df_pre_normalize.loc[0, col]) != list ] + list_cols[i+1:]\n",
    "df_normalize = json_normalize(data=json_data, record_path=col, meta=meta_cols, record_prefix=col+str('_'), sep=',', errors='ignore').drop(\"_class\", axis=1)\n",
    "df_normalize.head(20)\n"
   ],
   "metadata": {
    "collapsed": false
   }
  }
 ],
 "metadata": {
  "kernelspec": {
   "display_name": "Python 3",
   "language": "python",
   "name": "python3"
  },
  "language_info": {
   "codemirror_mode": {
    "name": "ipython",
    "version": 2
   },
   "file_extension": ".py",
   "mimetype": "text/x-python",
   "name": "python",
   "nbconvert_exporter": "python",
   "pygments_lexer": "ipython2",
   "version": "2.7.6"
  }
 },
 "nbformat": 4,
 "nbformat_minor": 0
}
