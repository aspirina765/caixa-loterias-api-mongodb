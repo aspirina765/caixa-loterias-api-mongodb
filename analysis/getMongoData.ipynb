{
 "cells": [
  {
   "cell_type": "markdown",
   "source": [
    "# PyMongoArrow: Bridging the Gap Between MongoDB and Your Data Analysis App\n",
    "\n",
    "The code in this notebook requires you to have created a MongoDB Atlas cluster, with the sample datasets loaded. You will then need to set a `MDB_URI` environment variable with the URI of your cluster before starting Jupyter Notebook to run this.\n",
    "\n",
    "## Getting Set Up:"
   ],
   "metadata": {}
  },
  {
   "cell_type": "code",
   "execution_count": 79,
   "source": [
    "# Install the dependencies for the code in the later code blocks:\n",
    "\n",
    "import sys\n",
    "!{sys.executable} -m pip install pymongo[srv]==3.12 pymongoarrow==0.1.1 pandas==1.3.3 numpy==1.21.2"
   ],
   "outputs": [
    {
     "name": "stdout",
     "output_type": "stream",
     "text": [
      "Requirement already satisfied: pymongo[srv]==3.12 in /home/rhel9dev/miniconda3/envs/caixa-loterias-api-mongodb/lib/python3.8/site-packages (3.12.0)\r\n",
      "Requirement already satisfied: pymongoarrow==0.1.1 in /home/rhel9dev/miniconda3/envs/caixa-loterias-api-mongodb/lib/python3.8/site-packages (0.1.1)\r\n",
      "Requirement already satisfied: pandas==1.3.3 in /home/rhel9dev/miniconda3/envs/caixa-loterias-api-mongodb/lib/python3.8/site-packages (1.3.3)\r\n",
      "Requirement already satisfied: numpy==1.21.2 in /home/rhel9dev/miniconda3/envs/caixa-loterias-api-mongodb/lib/python3.8/site-packages (1.21.2)\r\n",
      "Requirement already satisfied: dnspython<2.0.0,>=1.16.0 in /home/rhel9dev/miniconda3/envs/caixa-loterias-api-mongodb/lib/python3.8/site-packages (from pymongo[srv]==3.12) (1.16.0)\r\n",
      "Requirement already satisfied: pyarrow<3.1,>=3 in /home/rhel9dev/miniconda3/envs/caixa-loterias-api-mongodb/lib/python3.8/site-packages (from pymongoarrow==0.1.1) (3.0.0)\r\n",
      "Requirement already satisfied: pytz>=2017.3 in /home/rhel9dev/miniconda3/envs/caixa-loterias-api-mongodb/lib/python3.8/site-packages (from pandas==1.3.3) (2022.7)\r\n",
      "Requirement already satisfied: python-dateutil>=2.7.3 in /home/rhel9dev/miniconda3/envs/caixa-loterias-api-mongodb/lib/python3.8/site-packages (from pandas==1.3.3) (2.8.2)\r\n",
      "Requirement already satisfied: six>=1.5 in /home/rhel9dev/miniconda3/envs/caixa-loterias-api-mongodb/lib/python3.8/site-packages (from python-dateutil>=2.7.3->pandas==1.3.3) (1.16.0)\r\n"
     ]
    }
   ],
   "metadata": {}
  },
  {
   "cell_type": "code",
   "execution_count": 89,
   "outputs": [],
   "source": [
    "import os\n",
    "import json\n",
    "import numpy as np\n",
    "import os\n",
    "import pyarrow\n",
    "import pymongo\n",
    "import bson\n",
    "import pymongoarrow.monkey\n",
    "from pymongoarrow.api import Schema\n",
    "import pandas as pd\n",
    "\n",
    "os.system('export MDB_URI=mongodb://localhost:27017/loterias')\n",
    "os.environ['MDB_URI']='mongodb://localhost:27017/loterias'"
   ],
   "metadata": {
    "collapsed": false
   }
  },
  {
   "cell_type": "code",
   "execution_count": 90,
   "source": [
    "\n",
    "MDB_URI = os.environ['MDB_URI']\n",
    "\n",
    "pymongoarrow.monkey.patch_all()\n",
    "\n",
    "client = pymongo.MongoClient(MDB_URI)\n",
    "database = client.get_database(\"loterias\")\n",
    "collection = database.get_collection(\"resultados\")"
   ],
   "outputs": [],
   "metadata": {}
  },
  {
   "cell_type": "code",
   "execution_count": 91,
   "source": [
    "list_json = list(collection.find({\"$or\":[ {\"nome\": \"Super Sete\"}, {\"nome\": \"Mega Sena\"} ]}))\n",
    "\n",
    "with open('mongo_data_loterias.json', 'w') as f:\n",
    "  json.dump(list_json, f)"
   ],
   "outputs": [],
   "metadata": {}
  },
  {
   "cell_type": "code",
   "execution_count": 92,
   "source": [
    "list_data = list(collection.aggregate([\n",
    "    {'$match': {'nome': 'Super Sete'}},\n",
    "    {'$project': {\n",
    "        'dezenas': '$dezenas',\n",
    "        'premiacoes': '$premiacoes',\n",
    "    }}\n",
    "]))\n",
    "\n",
    "\n",
    "df_init = pd.DataFrame(list_data)\n",
    "df_init.to_csv(\"mongo_data_loterias.csv\")\n",
    "df_init.head(20)"
   ],
   "outputs": [
    {
     "data": {
      "text/plain": "                                          _id                dezenas  \\\n0    {'loteria': 'super-sete', 'concurso': 1}  [2, 9, 9, 8, 7, 7, 6]   \n1    {'loteria': 'super-sete', 'concurso': 2}  [8, 8, 1, 5, 6, 7, 7]   \n2    {'loteria': 'super-sete', 'concurso': 3}  [7, 2, 6, 6, 5, 4, 4]   \n3    {'loteria': 'super-sete', 'concurso': 4}  [5, 7, 8, 1, 8, 2, 5]   \n4    {'loteria': 'super-sete', 'concurso': 5}  [6, 4, 0, 1, 0, 6, 9]   \n5    {'loteria': 'super-sete', 'concurso': 6}  [5, 7, 3, 3, 4, 1, 1]   \n6    {'loteria': 'super-sete', 'concurso': 7}  [0, 7, 7, 6, 4, 4, 9]   \n7    {'loteria': 'super-sete', 'concurso': 8}  [7, 0, 9, 2, 0, 2, 5]   \n8    {'loteria': 'super-sete', 'concurso': 9}  [8, 6, 2, 0, 2, 6, 7]   \n9   {'loteria': 'super-sete', 'concurso': 10}  [8, 9, 9, 2, 9, 6, 5]   \n10  {'loteria': 'super-sete', 'concurso': 11}  [6, 0, 7, 5, 6, 0, 9]   \n11  {'loteria': 'super-sete', 'concurso': 12}  [3, 0, 3, 2, 8, 9, 0]   \n12  {'loteria': 'super-sete', 'concurso': 13}  [3, 9, 9, 7, 4, 6, 0]   \n13  {'loteria': 'super-sete', 'concurso': 14}  [7, 4, 0, 9, 4, 7, 4]   \n14  {'loteria': 'super-sete', 'concurso': 15}  [3, 6, 8, 1, 7, 9, 9]   \n15  {'loteria': 'super-sete', 'concurso': 16}  [5, 7, 2, 6, 9, 4, 4]   \n16  {'loteria': 'super-sete', 'concurso': 17}  [3, 8, 2, 3, 5, 8, 6]   \n17  {'loteria': 'super-sete', 'concurso': 18}  [3, 8, 2, 4, 8, 6, 8]   \n18  {'loteria': 'super-sete', 'concurso': 19}  [0, 0, 0, 1, 4, 3, 3]   \n19  {'loteria': 'super-sete', 'concurso': 20}  [4, 9, 3, 9, 8, 1, 3]   \n\n                                           premiacoes  \n0   [{'acertos': '7 Pontos', 'vencedores': 0, 'pre...  \n1   [{'acertos': '7 Pontos', 'vencedores': 0, 'pre...  \n2   [{'acertos': '7 Pontos', 'vencedores': 1, 'pre...  \n3   [{'acertos': '7 Pontos', 'vencedores': 0, 'pre...  \n4   [{'acertos': '7 Pontos', 'vencedores': 0, 'pre...  \n5   [{'acertos': '7 Pontos', 'vencedores': 0, 'pre...  \n6   [{'acertos': '7 Pontos', 'vencedores': 0, 'pre...  \n7   [{'acertos': '7 Pontos', 'vencedores': 0, 'pre...  \n8   [{'acertos': '7 Pontos', 'vencedores': 0, 'pre...  \n9   [{'acertos': '7 Pontos', 'vencedores': 0, 'pre...  \n10  [{'acertos': '7 Pontos', 'vencedores': 0, 'pre...  \n11  [{'acertos': '7 Pontos', 'vencedores': 0, 'pre...  \n12  [{'acertos': '7 Pontos', 'vencedores': 0, 'pre...  \n13  [{'acertos': '7 Pontos', 'vencedores': 0, 'pre...  \n14  [{'acertos': '7 Pontos', 'vencedores': 0, 'pre...  \n15  [{'acertos': '7 Pontos', 'vencedores': 0, 'pre...  \n16  [{'acertos': '7 Pontos', 'vencedores': 0, 'pre...  \n17  [{'acertos': '7 Pontos', 'vencedores': 0, 'pre...  \n18  [{'acertos': '7 Pontos', 'vencedores': 1, 'pre...  \n19  [{'acertos': '7 Pontos', 'vencedores': 0, 'pre...  ",
      "text/html": "<div>\n<style scoped>\n    .dataframe tbody tr th:only-of-type {\n        vertical-align: middle;\n    }\n\n    .dataframe tbody tr th {\n        vertical-align: top;\n    }\n\n    .dataframe thead th {\n        text-align: right;\n    }\n</style>\n<table border=\"1\" class=\"dataframe\">\n  <thead>\n    <tr style=\"text-align: right;\">\n      <th></th>\n      <th>_id</th>\n      <th>dezenas</th>\n      <th>premiacoes</th>\n    </tr>\n  </thead>\n  <tbody>\n    <tr>\n      <th>0</th>\n      <td>{'loteria': 'super-sete', 'concurso': 1}</td>\n      <td>[2, 9, 9, 8, 7, 7, 6]</td>\n      <td>[{'acertos': '7 Pontos', 'vencedores': 0, 'pre...</td>\n    </tr>\n    <tr>\n      <th>1</th>\n      <td>{'loteria': 'super-sete', 'concurso': 2}</td>\n      <td>[8, 8, 1, 5, 6, 7, 7]</td>\n      <td>[{'acertos': '7 Pontos', 'vencedores': 0, 'pre...</td>\n    </tr>\n    <tr>\n      <th>2</th>\n      <td>{'loteria': 'super-sete', 'concurso': 3}</td>\n      <td>[7, 2, 6, 6, 5, 4, 4]</td>\n      <td>[{'acertos': '7 Pontos', 'vencedores': 1, 'pre...</td>\n    </tr>\n    <tr>\n      <th>3</th>\n      <td>{'loteria': 'super-sete', 'concurso': 4}</td>\n      <td>[5, 7, 8, 1, 8, 2, 5]</td>\n      <td>[{'acertos': '7 Pontos', 'vencedores': 0, 'pre...</td>\n    </tr>\n    <tr>\n      <th>4</th>\n      <td>{'loteria': 'super-sete', 'concurso': 5}</td>\n      <td>[6, 4, 0, 1, 0, 6, 9]</td>\n      <td>[{'acertos': '7 Pontos', 'vencedores': 0, 'pre...</td>\n    </tr>\n    <tr>\n      <th>5</th>\n      <td>{'loteria': 'super-sete', 'concurso': 6}</td>\n      <td>[5, 7, 3, 3, 4, 1, 1]</td>\n      <td>[{'acertos': '7 Pontos', 'vencedores': 0, 'pre...</td>\n    </tr>\n    <tr>\n      <th>6</th>\n      <td>{'loteria': 'super-sete', 'concurso': 7}</td>\n      <td>[0, 7, 7, 6, 4, 4, 9]</td>\n      <td>[{'acertos': '7 Pontos', 'vencedores': 0, 'pre...</td>\n    </tr>\n    <tr>\n      <th>7</th>\n      <td>{'loteria': 'super-sete', 'concurso': 8}</td>\n      <td>[7, 0, 9, 2, 0, 2, 5]</td>\n      <td>[{'acertos': '7 Pontos', 'vencedores': 0, 'pre...</td>\n    </tr>\n    <tr>\n      <th>8</th>\n      <td>{'loteria': 'super-sete', 'concurso': 9}</td>\n      <td>[8, 6, 2, 0, 2, 6, 7]</td>\n      <td>[{'acertos': '7 Pontos', 'vencedores': 0, 'pre...</td>\n    </tr>\n    <tr>\n      <th>9</th>\n      <td>{'loteria': 'super-sete', 'concurso': 10}</td>\n      <td>[8, 9, 9, 2, 9, 6, 5]</td>\n      <td>[{'acertos': '7 Pontos', 'vencedores': 0, 'pre...</td>\n    </tr>\n    <tr>\n      <th>10</th>\n      <td>{'loteria': 'super-sete', 'concurso': 11}</td>\n      <td>[6, 0, 7, 5, 6, 0, 9]</td>\n      <td>[{'acertos': '7 Pontos', 'vencedores': 0, 'pre...</td>\n    </tr>\n    <tr>\n      <th>11</th>\n      <td>{'loteria': 'super-sete', 'concurso': 12}</td>\n      <td>[3, 0, 3, 2, 8, 9, 0]</td>\n      <td>[{'acertos': '7 Pontos', 'vencedores': 0, 'pre...</td>\n    </tr>\n    <tr>\n      <th>12</th>\n      <td>{'loteria': 'super-sete', 'concurso': 13}</td>\n      <td>[3, 9, 9, 7, 4, 6, 0]</td>\n      <td>[{'acertos': '7 Pontos', 'vencedores': 0, 'pre...</td>\n    </tr>\n    <tr>\n      <th>13</th>\n      <td>{'loteria': 'super-sete', 'concurso': 14}</td>\n      <td>[7, 4, 0, 9, 4, 7, 4]</td>\n      <td>[{'acertos': '7 Pontos', 'vencedores': 0, 'pre...</td>\n    </tr>\n    <tr>\n      <th>14</th>\n      <td>{'loteria': 'super-sete', 'concurso': 15}</td>\n      <td>[3, 6, 8, 1, 7, 9, 9]</td>\n      <td>[{'acertos': '7 Pontos', 'vencedores': 0, 'pre...</td>\n    </tr>\n    <tr>\n      <th>15</th>\n      <td>{'loteria': 'super-sete', 'concurso': 16}</td>\n      <td>[5, 7, 2, 6, 9, 4, 4]</td>\n      <td>[{'acertos': '7 Pontos', 'vencedores': 0, 'pre...</td>\n    </tr>\n    <tr>\n      <th>16</th>\n      <td>{'loteria': 'super-sete', 'concurso': 17}</td>\n      <td>[3, 8, 2, 3, 5, 8, 6]</td>\n      <td>[{'acertos': '7 Pontos', 'vencedores': 0, 'pre...</td>\n    </tr>\n    <tr>\n      <th>17</th>\n      <td>{'loteria': 'super-sete', 'concurso': 18}</td>\n      <td>[3, 8, 2, 4, 8, 6, 8]</td>\n      <td>[{'acertos': '7 Pontos', 'vencedores': 0, 'pre...</td>\n    </tr>\n    <tr>\n      <th>18</th>\n      <td>{'loteria': 'super-sete', 'concurso': 19}</td>\n      <td>[0, 0, 0, 1, 4, 3, 3]</td>\n      <td>[{'acertos': '7 Pontos', 'vencedores': 1, 'pre...</td>\n    </tr>\n    <tr>\n      <th>19</th>\n      <td>{'loteria': 'super-sete', 'concurso': 20}</td>\n      <td>[4, 9, 3, 9, 8, 1, 3]</td>\n      <td>[{'acertos': '7 Pontos', 'vencedores': 0, 'pre...</td>\n    </tr>\n  </tbody>\n</table>\n</div>"
     },
     "execution_count": 92,
     "metadata": {},
     "output_type": "execute_result"
    }
   ],
   "metadata": {}
  },
  {
   "cell_type": "code",
   "execution_count": null,
   "outputs": [],
   "source": [],
   "metadata": {
    "collapsed": false
   }
  }
 ],
 "metadata": {
  "kernelspec": {
   "name": "python3",
   "display_name": "Python 3.9.6 64-bit ('venv': venv)"
  },
  "language_info": {
   "codemirror_mode": {
    "name": "ipython",
    "version": 3
   },
   "file_extension": ".py",
   "mimetype": "text/x-python",
   "name": "python",
   "nbconvert_exporter": "python",
   "pygments_lexer": "ipython3",
   "version": "3.9.6"
  },
  "interpreter": {
   "hash": "3ca1de8f215046013c4a81e7decec5cae2b9defd18eb2733d125e232bbb8aadc"
  }
 },
 "nbformat": 4,
 "nbformat_minor": 5
}
